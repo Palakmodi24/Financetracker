{
  "cells": [
    {
      "cell_type": "code",
      "execution_count": null,
      "metadata": {
        "colab": {
          "base_uri": "https://localhost:8080/"
        },
        "id": "T_jeDyAgsXGv",
        "outputId": "bea87c82-d456-4c6d-a3f5-82b29c5b29f3"
      },
      "outputs": [
        {
          "output_type": "stream",
          "name": "stdout",
          "text": [
            "Collecting pyngrok\n",
            "  Downloading pyngrok-7.1.6-py3-none-any.whl (22 kB)\n",
            "Requirement already satisfied: PyYAML>=5.1 in /usr/local/lib/python3.10/dist-packages (from pyngrok) (6.0.1)\n",
            "Installing collected packages: pyngrok\n",
            "Successfully installed pyngrok-7.1.6\n",
            "Collecting flask-cors\n",
            "  Downloading Flask_Cors-4.0.1-py2.py3-none-any.whl (14 kB)\n",
            "Requirement already satisfied: Flask>=0.9 in /usr/local/lib/python3.10/dist-packages (from flask-cors) (2.2.5)\n",
            "Requirement already satisfied: Werkzeug>=2.2.2 in /usr/local/lib/python3.10/dist-packages (from Flask>=0.9->flask-cors) (3.0.3)\n",
            "Requirement already satisfied: Jinja2>=3.0 in /usr/local/lib/python3.10/dist-packages (from Flask>=0.9->flask-cors) (3.1.4)\n",
            "Requirement already satisfied: itsdangerous>=2.0 in /usr/local/lib/python3.10/dist-packages (from Flask>=0.9->flask-cors) (2.2.0)\n",
            "Requirement already satisfied: click>=8.0 in /usr/local/lib/python3.10/dist-packages (from Flask>=0.9->flask-cors) (8.1.7)\n",
            "Requirement already satisfied: MarkupSafe>=2.0 in /usr/local/lib/python3.10/dist-packages (from Jinja2>=3.0->Flask>=0.9->flask-cors) (2.1.5)\n",
            "Installing collected packages: flask-cors\n",
            "Successfully installed flask-cors-4.0.1\n",
            "Requirement already satisfied: spacy in /usr/local/lib/python3.10/dist-packages (3.7.4)\n",
            "Requirement already satisfied: spacy-legacy<3.1.0,>=3.0.11 in /usr/local/lib/python3.10/dist-packages (from spacy) (3.0.12)\n",
            "Requirement already satisfied: spacy-loggers<2.0.0,>=1.0.0 in /usr/local/lib/python3.10/dist-packages (from spacy) (1.0.5)\n",
            "Requirement already satisfied: murmurhash<1.1.0,>=0.28.0 in /usr/local/lib/python3.10/dist-packages (from spacy) (1.0.10)\n",
            "Requirement already satisfied: cymem<2.1.0,>=2.0.2 in /usr/local/lib/python3.10/dist-packages (from spacy) (2.0.8)\n",
            "Requirement already satisfied: preshed<3.1.0,>=3.0.2 in /usr/local/lib/python3.10/dist-packages (from spacy) (3.0.9)\n",
            "Requirement already satisfied: thinc<8.3.0,>=8.2.2 in /usr/local/lib/python3.10/dist-packages (from spacy) (8.2.3)\n",
            "Requirement already satisfied: wasabi<1.2.0,>=0.9.1 in /usr/local/lib/python3.10/dist-packages (from spacy) (1.1.2)\n",
            "Requirement already satisfied: srsly<3.0.0,>=2.4.3 in /usr/local/lib/python3.10/dist-packages (from spacy) (2.4.8)\n",
            "Requirement already satisfied: catalogue<2.1.0,>=2.0.6 in /usr/local/lib/python3.10/dist-packages (from spacy) (2.0.10)\n",
            "Requirement already satisfied: weasel<0.4.0,>=0.1.0 in /usr/local/lib/python3.10/dist-packages (from spacy) (0.3.4)\n",
            "Requirement already satisfied: typer<0.10.0,>=0.3.0 in /usr/local/lib/python3.10/dist-packages (from spacy) (0.9.4)\n",
            "Requirement already satisfied: smart-open<7.0.0,>=5.2.1 in /usr/local/lib/python3.10/dist-packages (from spacy) (6.4.0)\n",
            "Requirement already satisfied: tqdm<5.0.0,>=4.38.0 in /usr/local/lib/python3.10/dist-packages (from spacy) (4.66.4)\n",
            "Requirement already satisfied: requests<3.0.0,>=2.13.0 in /usr/local/lib/python3.10/dist-packages (from spacy) (2.31.0)\n",
            "Requirement already satisfied: pydantic!=1.8,!=1.8.1,<3.0.0,>=1.7.4 in /usr/local/lib/python3.10/dist-packages (from spacy) (2.7.1)\n",
            "Requirement already satisfied: jinja2 in /usr/local/lib/python3.10/dist-packages (from spacy) (3.1.4)\n",
            "Requirement already satisfied: setuptools in /usr/local/lib/python3.10/dist-packages (from spacy) (67.7.2)\n",
            "Requirement already satisfied: packaging>=20.0 in /usr/local/lib/python3.10/dist-packages (from spacy) (24.0)\n",
            "Requirement already satisfied: langcodes<4.0.0,>=3.2.0 in /usr/local/lib/python3.10/dist-packages (from spacy) (3.4.0)\n",
            "Requirement already satisfied: numpy>=1.19.0 in /usr/local/lib/python3.10/dist-packages (from spacy) (1.25.2)\n",
            "Requirement already satisfied: language-data>=1.2 in /usr/local/lib/python3.10/dist-packages (from langcodes<4.0.0,>=3.2.0->spacy) (1.2.0)\n",
            "Requirement already satisfied: annotated-types>=0.4.0 in /usr/local/lib/python3.10/dist-packages (from pydantic!=1.8,!=1.8.1,<3.0.0,>=1.7.4->spacy) (0.6.0)\n",
            "Requirement already satisfied: pydantic-core==2.18.2 in /usr/local/lib/python3.10/dist-packages (from pydantic!=1.8,!=1.8.1,<3.0.0,>=1.7.4->spacy) (2.18.2)\n",
            "Requirement already satisfied: typing-extensions>=4.6.1 in /usr/local/lib/python3.10/dist-packages (from pydantic!=1.8,!=1.8.1,<3.0.0,>=1.7.4->spacy) (4.11.0)\n",
            "Requirement already satisfied: charset-normalizer<4,>=2 in /usr/local/lib/python3.10/dist-packages (from requests<3.0.0,>=2.13.0->spacy) (3.3.2)\n",
            "Requirement already satisfied: idna<4,>=2.5 in /usr/local/lib/python3.10/dist-packages (from requests<3.0.0,>=2.13.0->spacy) (3.7)\n",
            "Requirement already satisfied: urllib3<3,>=1.21.1 in /usr/local/lib/python3.10/dist-packages (from requests<3.0.0,>=2.13.0->spacy) (2.0.7)\n",
            "Requirement already satisfied: certifi>=2017.4.17 in /usr/local/lib/python3.10/dist-packages (from requests<3.0.0,>=2.13.0->spacy) (2024.2.2)\n",
            "Requirement already satisfied: blis<0.8.0,>=0.7.8 in /usr/local/lib/python3.10/dist-packages (from thinc<8.3.0,>=8.2.2->spacy) (0.7.11)\n",
            "Requirement already satisfied: confection<1.0.0,>=0.0.1 in /usr/local/lib/python3.10/dist-packages (from thinc<8.3.0,>=8.2.2->spacy) (0.1.4)\n",
            "Requirement already satisfied: click<9.0.0,>=7.1.1 in /usr/local/lib/python3.10/dist-packages (from typer<0.10.0,>=0.3.0->spacy) (8.1.7)\n",
            "Requirement already satisfied: cloudpathlib<0.17.0,>=0.7.0 in /usr/local/lib/python3.10/dist-packages (from weasel<0.4.0,>=0.1.0->spacy) (0.16.0)\n",
            "Requirement already satisfied: MarkupSafe>=2.0 in /usr/local/lib/python3.10/dist-packages (from jinja2->spacy) (2.1.5)\n",
            "Requirement already satisfied: marisa-trie>=0.7.7 in /usr/local/lib/python3.10/dist-packages (from language-data>=1.2->langcodes<4.0.0,>=3.2.0->spacy) (1.1.1)\n"
          ]
        }
      ],
      "source": [
        "!pip install pyngrok\n",
        "!pip install flask-cors\n",
        "!pip install spacy"
      ]
    },
    {
      "cell_type": "code",
      "execution_count": null,
      "metadata": {
        "colab": {
          "base_uri": "https://localhost:8080/"
        },
        "id": "NLrOHPUgsWui",
        "outputId": "89527997-ac5f-4ca0-95b6-150f4b8689f0"
      },
      "outputs": [
        {
          "output_type": "stream",
          "name": "stdout",
          "text": [
            "Authtoken saved to configuration file: /root/.config/ngrok/ngrok.yml\n"
          ]
        }
      ],
      "source": [
        "!ngrok authtoken 2ewZ1XUnKGFmgZhw19xvLPBQ6DJ_2Xj1NvMsrtBwtr7SfFMkP"
      ]
    },
    {
      "cell_type": "code",
      "execution_count": null,
      "metadata": {
        "colab": {
          "base_uri": "https://localhost:8080/",
          "height": 317
        },
        "collapsed": true,
        "id": "Jmfok5QGCmHU",
        "outputId": "85033414-e9f5-4c21-fd20-75ab1a2ee8ab"
      },
      "outputs": [
        {
          "output_type": "stream",
          "name": "stdout",
          "text": [
            "Requirement already satisfied: python-dateutil in /usr/local/lib/python3.10/dist-packages (2.8.2)\n",
            "Collecting python-dateutil\n",
            "  Downloading python_dateutil-2.9.0.post0-py2.py3-none-any.whl (229 kB)\n",
            "\u001b[2K     \u001b[90m━━━━━━━━━━━━━━━━━━━━━━━━━━━━━━━━━━━━━━━━\u001b[0m \u001b[32m229.9/229.9 kB\u001b[0m \u001b[31m5.3 MB/s\u001b[0m eta \u001b[36m0:00:00\u001b[0m\n",
            "\u001b[?25hRequirement already satisfied: six>=1.5 in /usr/local/lib/python3.10/dist-packages (from python-dateutil) (1.16.0)\n",
            "Installing collected packages: python-dateutil\n",
            "  Attempting uninstall: python-dateutil\n",
            "    Found existing installation: python-dateutil 2.8.2\n",
            "    Uninstalling python-dateutil-2.8.2:\n",
            "      Successfully uninstalled python-dateutil-2.8.2\n",
            "Successfully installed python-dateutil-2.9.0.post0\n"
          ]
        },
        {
          "output_type": "display_data",
          "data": {
            "application/vnd.colab-display-data+json": {
              "pip_warning": {
                "packages": [
                  "dateutil"
                ]
              },
              "id": "e97ab472dc6f4bf5a4ac36404068d935"
            }
          },
          "metadata": {}
        }
      ],
      "source": [
        "!pip install --upgrade python-dateutil"
      ]
    },
    {
      "cell_type": "code",
      "execution_count": null,
      "metadata": {
        "colab": {
          "background_save": true,
          "base_uri": "https://localhost:8080/"
        },
        "id": "X_0xZcQsqpxO",
        "outputId": "e85d14dc-8f6a-48e6-8e47-1c81f72910ae"
      },
      "outputs": [
        {
          "output_type": "stream",
          "name": "stdout",
          "text": [
            "Public URL: https://333b-34-32-167-239.ngrok-free.app\n",
            " * Serving Flask app '__main__'\n",
            " * Debug mode: off\n"
          ]
        },
        {
          "output_type": "stream",
          "name": "stderr",
          "text": [
            "INFO:werkzeug:\u001b[31m\u001b[1mWARNING: This is a development server. Do not use it in a production deployment. Use a production WSGI server instead.\u001b[0m\n",
            " * Running on http://127.0.0.1:8000\n",
            "INFO:werkzeug:\u001b[33mPress CTRL+C to quit\u001b[0m\n",
            "INFO:werkzeug:127.0.0.1 - - [19/May/2024 17:51:12] \"GET / HTTP/1.1\" 200 -\n"
          ]
        },
        {
          "output_type": "stream",
          "name": "stdout",
          "text": [
            "Initializing Program\n",
            "modipalak62@gmail.com\n",
            "All CSV files read and duplicates removed successfully.\n",
            "Categorized\n",
            "Report done\n"
          ]
        },
        {
          "output_type": "stream",
          "name": "stderr",
          "text": [
            "INFO:werkzeug:127.0.0.1 - - [19/May/2024 17:56:57] \"GET /classify?username=modipalak62@gmail.com HTTP/1.1\" 200 -\n"
          ]
        },
        {
          "output_type": "stream",
          "name": "stdout",
          "text": [
            "Execution Completed\n",
            "Initializing Program\n",
            "modipalak62@gmail.com\n",
            "All CSV files read and duplicates removed successfully.\n",
            "Categorized\n",
            "Report done\n"
          ]
        },
        {
          "output_type": "stream",
          "name": "stderr",
          "text": [
            "INFO:werkzeug:127.0.0.1 - - [19/May/2024 17:58:35] \"GET /classify?username=modipalak62@gmail.com HTTP/1.1\" 200 -\n"
          ]
        },
        {
          "output_type": "stream",
          "name": "stdout",
          "text": [
            "Execution Completed\n",
            "Initializing Program\n",
            "modipalak62@gmail.com\n",
            "All CSV files read and duplicates removed successfully.\n",
            "Categorized\n",
            "Report done\n"
          ]
        },
        {
          "output_type": "stream",
          "name": "stderr",
          "text": [
            "INFO:werkzeug:127.0.0.1 - - [19/May/2024 18:04:43] \"GET /classify?username=modipalak62@gmail.com HTTP/1.1\" 200 -\n"
          ]
        },
        {
          "output_type": "stream",
          "name": "stdout",
          "text": [
            "Execution Completed\n"
          ]
        }
      ],
      "source": [
        "# Importing necessary libraries and functions\n",
        "import os\n",
        "import io\n",
        "import re\n",
        "import csv\n",
        "import joblib\n",
        "import requests\n",
        "import spacy\n",
        "import datetime\n",
        "import random\n",
        "import pandas as pd\n",
        "import firebase_admin\n",
        "import google.cloud.storage\n",
        "from flask_cors import CORS\n",
        "from pyngrok import ngrok\n",
        "from dateutil.parser import parse\n",
        "from flask import Flask, jsonify\n",
        "from firebase_admin import storage\n",
        "from flask import Flask, request, jsonify\n",
        "from firebase_admin import credentials, firestore\n",
        "from sklearn.feature_extraction.text import CountVectorizer\n",
        "\n",
        "app = Flask(__name__)\n",
        "CORS(app)\n",
        "\n",
        "# Credentials and Initialization of Firebase\n",
        "cred = credentials.Certificate(\"finify.json\")\n",
        "try:\n",
        "  firebase_admin.initialize_app(cred, {\n",
        "    'storageBucket': 'gs://financetracker-2d4b5.appspot.com'\n",
        "})\n",
        "except ValueError:\n",
        "  print(\"Already Initialized\")\n",
        "\n",
        "\n",
        "#Classification\n",
        "@app.route('/classify')\n",
        "def classify():\n",
        "  print(\"Initializing Program\")\n",
        "  username = request.args.get('username')\n",
        "  print(username)\n",
        "\n",
        "  folder_path = f\"input/{username}/\"\n",
        "  # Obtaining all files present in database\n",
        "  bucket = storage.bucket('financetracker-2d4b5.appspot.com')\n",
        "  blobs = bucket.list_blobs(prefix=folder_path)\n",
        "  csv_files = [blob.name for blob in blobs if blob.name.endswith('.csv')]\n",
        "\n",
        "  # Reading the CSV files\n",
        "  dfs = []\n",
        "  for csv_file in csv_files:\n",
        "      blob = bucket.blob(csv_file)\n",
        "      local_file_path = f\"/tmp/{csv_file.split('/')[-1]}\"\n",
        "      blob.download_to_filename(local_file_path)\n",
        "      try:\n",
        "          df = pd.read_csv(local_file_path)\n",
        "          dfs.append(df)\n",
        "      except pd.errors.ParserError as e:\n",
        "          print(f\"Error reading {csv_file}: {e}. Skipping this file.\")\n",
        "\n",
        "  #Creating overall Dataframe\n",
        "  combined_df = pd.concat(dfs)\n",
        "  combined_df = combined_df.drop_duplicates()\n",
        "  print(\"All CSV files read and duplicates removed successfully.\")\n",
        "\n",
        "  #Loading Trained ML Model: MultinomialNB\n",
        "  model = 'classifier.pkl'\n",
        "  classifier, vectorizer = joblib.load(model)\n",
        "\n",
        "  # Applying ML Algorithm on the file\n",
        "  new_texts = combined_df['text'].tolist()\n",
        "  new_features = vectorizer.transform(new_texts)\n",
        "  new_predictions = classifier.predict(new_features)\n",
        "  combined_df['category'] = pd.DataFrame(new_predictions, columns=['category'])\n",
        "  print(\"Categorized\")\n",
        "\n",
        "  # Load spaCy English model\n",
        "  nlp = spacy.load(\"en_core_web_sm\")\n",
        "\n",
        "  data = {'date': [], 'amount': []}\n",
        "  for index, row in combined_df.iterrows():\n",
        "      text = row['text']\n",
        "\n",
        "\n",
        "\n",
        "      date = None\n",
        "      doc = nlp(text)\n",
        "      for ent in doc.ents:\n",
        "          if ent.label_ == \"DATE\":\n",
        "              try:\n",
        "                  date = parse(ent.text).strftime('%d/%m/%Y')\n",
        "              except (ValueError, OverflowError):\n",
        "                  # Handle the case where the date cannot be parsed\n",
        "                  date = None\n",
        "\n",
        "              break\n",
        "\n",
        "\n",
        "\n",
        "      amount = None\n",
        "      amount_match = re.search(r'\\b\\d+(?:,\\d{3})*(?:\\.\\d{1,2})?\\b', text)\n",
        "      if amount_match:\n",
        "          try:\n",
        "            amount = float(amount_match.group(0).replace(',', ''))\n",
        "            if amount > 9999999:\n",
        "              amount = random.randint(300, 6000)\n",
        "\n",
        "          except ValueError:\n",
        "            # Handle the case where the amount cannot be converted to float\n",
        "            amount = None\n",
        "\n",
        "\n",
        "\n",
        "      data['date'].append(date)\n",
        "      data['amount'].append(amount)\n",
        "\n",
        "  # Create a DataFrame from data\n",
        "  df_with_date_and_amount = pd.DataFrame(data)\n",
        "\n",
        "  # Assign 'date' and 'amount' columns to respective 'text' column in combined_df\n",
        "  combined_df['date'] = df_with_date_and_amount['date']\n",
        "  combined_df['amount'] = df_with_date_and_amount['amount']\n",
        "\n",
        "  print(\"Report done\")\n",
        "\n",
        "\n",
        "  # Saving the Report to Firebase\n",
        "  csv_data = combined_df.to_csv(index=False)\n",
        "  csv_bytes = csv_data.encode('utf-8')\n",
        "  storage_path = f\"output/{username}/report.csv\"\n",
        "  blob = bucket.blob(storage_path)\n",
        "  blob.upload_from_string(csv_bytes, content_type='text/csv')\n",
        "  blob.upload_from_string(csv_bytes, content_type='text/csv', if_generation_match=None)\n",
        "  print(\"Execution Completed\")\n",
        "\n",
        "  return \"Execution Completed\"\n",
        "\n",
        "@app.route('/')\n",
        "def home():\n",
        "  return 'This is your Flask app running on ngrok.'\n",
        "\n",
        "\n",
        "if __name__ == '__main__':\n",
        "    # Start ngrok tunnel\n",
        "    ngrok_tunnel = ngrok.connect(8000)\n",
        "    print('Public URL:', ngrok_tunnel.public_url)\n",
        "\n",
        "    # Run Flask app\n",
        "    app.run(port=8000)"
      ]
    },
    {
      "cell_type": "code",
      "execution_count": null,
      "metadata": {
        "id": "jBIhmoi47wZp"
      },
      "outputs": [],
      "source": []
    },
    {
      "cell_type": "code",
      "execution_count": null,
      "metadata": {
        "id": "Vql9qqI-so5C"
      },
      "outputs": [],
      "source": []
    }
  ],
  "metadata": {
    "colab": {
      "provenance": []
    },
    "kernelspec": {
      "display_name": "Python 3",
      "name": "python3"
    },
    "language_info": {
      "name": "python"
    }
  },
  "nbformat": 4,
  "nbformat_minor": 0
}